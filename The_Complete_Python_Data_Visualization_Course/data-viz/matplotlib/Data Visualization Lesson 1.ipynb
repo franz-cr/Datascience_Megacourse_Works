{
 "cells": [
  {
   "cell_type": "markdown",
   "metadata": {},
   "source": [
    "## The Complete Python Data Visualization Lesson\n",
    "\n",
    "### Bar Charts"
   ]
  },
  {
   "cell_type": "code",
   "execution_count": 1,
   "metadata": {},
   "outputs": [
    {
     "data": {
      "text/plain": [
       "<IPython.core.display.HTML object>"
      ]
     },
     "metadata": {},
     "output_type": "display_data"
    }
   ],
   "source": [
    "%%HTML\n",
    "https://stackskills.com/courses/enrolled/509580"
   ]
  },
  {
   "cell_type": "code",
   "execution_count": 2,
   "metadata": {},
   "outputs": [
    {
     "data": {
      "text/html": [
       "<!DOCTYPE html PUBLIC \"-//W3C//DTD XHTML 1.0 Transitional//EN\"\n",
       "  \"http://www.w3.org/TR/xhtml1/DTD/xhtml1-transitional.dtd\">\n",
       "<html xmlns=\"http://www.w3.org/1999/xhtml\">\n",
       "<head>\n",
       "<meta http-equiv=\"Content-Type\" content=\"text/html; charset=utf-8\" />\n",
       "<title>Matplotlib: Python plotting &mdash; Matplotlib 3.1.3 documentation</title>\n",
       "<link rel=\"stylesheet\" href=\"_static/mpl.css?v3.1.3-2-g782f6ef56\" type=\"text/css\" />\n",
       "<link rel=\"stylesheet\" href=\"_static/pygments.css\" type=\"text/css\" />\n",
       "<link rel=\"stylesheet\" href=\"_static/graphviz.css\" type=\"text/css\" />\n",
       "<link rel=\"stylesheet\" href=\"_static/gallery.css\" type=\"text/css\" />\n",
       "<link rel=\"stylesheet\" href=\"_static/copybutton.css\" type=\"text/css\" />\n",
       "<script type=\"text/javascript\" id=\"documentation_options\" data-url_root=\"./\" src=\"_static/documentation_options.js\"></script>\n",
       "<script type=\"text/javascript\" src=\"_static/jquery.js\"></script>\n",
       "<script type=\"text/javascript\" src=\"_static/underscore.js\"></script>\n",
       "<script type=\"text/javascript\" src=\"_static/doctools.js\"></script>\n",
       "<script type=\"text/javascript\" src=\"_static/language_data.js\"></script>\n",
       "<script type=\"text/javascript\" src=\"_static/clipboard.min.js\"></script>\n",
       "<script type=\"text/javascript\" src=\"_static/copybutton.js\"></script>\n",
       "<script type=\"text/javascript\">var copybuttonSkipText = '>>> ';</script>\n",
       "<script async=\"async\" type=\"text/javascript\" src=\"https://cdnjs.cloudflare.com/ajax/libs/mathjax/2.7.5/latest.js?config=TeX-AMS-MML_HTMLorMML\"></script>\n",
       "<link rel=\"search\" type=\"application/opensearchdescription+xml\" title=\"Search within Matplotlib 3.1.3 documentation\" href=\"_static/opensearch.xml\" />\n",
       "<link rel=\"shortcut icon\" href=\"_static/favicon.ico\" />\n",
       "<link rel=\"index\" title=\"Index\" href=\"genindex.html\" />\n",
       "<link rel=\"search\" title=\"Search\" href=\"search.html\" />\n",
       "<link rel=\"top\" title=\"Matplotlib 3.1.3 documentation\" href=\"#\" />\n",
       "<link rel=\"canonical\" href=\"https://matplotlib.org/3.1.3/index.html\" />\n",
       "</head>\n",
       "<body>\n",
       "<div style=\"background-color: white; text-align: left; padding: 10px 10px 15px 15px; position: relative;\">\n",
       "<a href=\"#\">\n",
       "<div style=\"float: left; position: absolute; width: 496px; bottom: 0; padding-bottom: 24px\"><span style=\"float: right; color: #789; background: white\">Version 3.1.3</span></div>\n",
       "<img src=\"_static/logo2_compressed.svg\" height=\"125px\" border=\"0\" alt=\"matplotlib\" /></a>\n",
       "\n",
       "<div id=\"forkongithub\"><a href=\"https://github.com/matplotlib/matplotlib\">Fork me on GitHub</a></div>\n",
       "</div>\n",
       "<nav class=\"main-nav\">\n",
       "<ul>\n",
       "<li><a href=\"users/installing.html\">Installation</a></li>\n",
       "<li><a href=\"contents.html\">Documentation</a></li>\n",
       "<li><a href=\"gallery/index.html\">Examples</a></li>\n",
       "<li><a href=\"tutorials/index.html\">Tutorials</a></li>\n",
       "<li><a href=\"devel/index.html\">Contributing</a></li>\n",
       "<li class=\"nav-right\">\n",
       "<form class=\"search\" action=\"search.html\" method=\"get\">\n",
       "<input type=\"text\" name=\"q\" aria-labelledby=\"searchlabel\" placeholder=\"Search\" />\n",
       "</form>\n",
       "</li>\n",
       "</ul>\n",
       "</nav>\n",
       "<div class=\"related\">\n",
       "<h3>Navigation</h3>\n",
       "<ul>\n",
       "<li class=\"right\" style=\"margin-right: 10px\">\n",
       "<a href=\"genindex.html\" title=\"General Index\" accesskey=\"I\">index</a></li>\n",
       "<li class=\"right\">\n",
       "<a href=\"py-modindex.html\" title=\"Python Module Index\">modules</a> |</li>\n",
       "<li><a href=\"#\">home</a>|&nbsp;</li>\n",
       "<li><a href=\"contents.html\">contents</a> &raquo;</li>\n",
       "</ul>\n",
       "</div>\n",
       "<div class=\"sphinxsidebar\">\n",
       "<div class=\"sphinxsidebarwrapper\"><div class=\"sidebar-announcement\">\n",
       "<p>Matplotlib 3.0 is Python 3 only.</p>\n",
       "<p>For Python 2 support, Matplotlib 2.2.x will be continued as a LTS release\n",
       "and updated with bugfixes until January 1, 2020.</p>\n",
       "</div><div class=\"sidebar-versions\">\n",
       "<script>\n",
       "function getSnippet(id, url) {\n",
       "    var req = false;\n",
       "    // For Safari, Firefox, and other non-MS browsers\n",
       "    if (window.XMLHttpRequest) {\n",
       "        try {\n",
       "            req = new XMLHttpRequest();\n",
       "        } catch (e) {\n",
       "            req = false;\n",
       "        }\n",
       "    } else if (window.ActiveXObject) {\n",
       "        // For Internet Explorer on Windows\n",
       "        try {\n",
       "            req = new ActiveXObject(\"Msxml2.XMLHTTP\");\n",
       "        } catch (e) {\n",
       "            try {\n",
       "            req = new ActiveXObject(\"Microsoft.XMLHTTP\");\n",
       "            } catch (e) {\n",
       "            req = false;\n",
       "            }\n",
       "        }\n",
       "    }\n",
       "    var element = document.querySelector(\".sidebar-versions\");\n",
       "    if (req) {\n",
       "        // Synchronous request, wait till we have it all\n",
       "        req.open('GET', url, false);\n",
       "        req.send(null);\n",
       "        if (req.status == 200) {\n",
       "            element.innerHTML = req.responseText;\n",
       "        } else {\n",
       "            element.innerHTML = \"<mark>Could not find Snippet to insert at \" + url + \"</mark>\"\n",
       "        }\n",
       "    }\n",
       "}\n",
       "getSnippet('other_versions', '/versions.html');\n",
       "</script>\n",
       "</div>\n",
       "<div id=\"sidebar-donations\">\n",
       "<a href=\"https://numfocus.org/donate-to-matplotlib\" target=\"_blank\"> <div class=\"donate_button\">Support Matplotlib</div></a>\n",
       "</div>\n",
       "</div>\n",
       "</div>\n",
       "<div class=\"document\">\n",
       "<div class=\"documentwrapper\">\n",
       "<div class=\"bodywrapper\">\n",
       "<div class=\"body\">\n",
       "<p>Matplotlib is a Python 2D plotting library which produces publication quality\n",
       "figures in a variety of hardcopy formats and interactive environments across\n",
       "platforms. Matplotlib can be used in Python scripts, the Python and <a class=\"reference external\" href=\"http://ipython.org\">IPython</a>\n",
       "shells, the <a class=\"reference external\" href=\"http://jupyter.org\">Jupyter</a> notebook, web application servers, and four graphical user\n",
       "interface toolkits.</p>\n",
       "<div class=\"responsive_screenshots\">\n",
       "<a href=\"tutorials/introductory/sample_plots.html\">\n",
       "<div class=\"responsive_subfig\">\n",
       "<img align=\"middle\" src=\"_images/sphx_glr_membrane_thumb.png\" border=\"0\" alt=\"screenshots\" />\n",
       "</div>\n",
       "<div class=\"responsive_subfig\">\n",
       "<img align=\"middle\" src=\"_images/sphx_glr_histogram_thumb.png\" border=\"0\" alt=\"screenshots\" />\n",
       "</div>\n",
       "<div class=\"responsive_subfig\">\n",
       "<img align=\"middle\" src=\"_images/sphx_glr_contour_thumb.png\" border=\"0\" alt=\"screenshots\" />\n",
       "</div>\n",
       "<div class=\"responsive_subfig\">\n",
       "<img align=\"middle\" src=\"_images/sphx_glr_3D_thumb.png\" border=\"0\" alt=\"screenshots\" />\n",
       "</div>\n",
       "</a>\n",
       "</div>\n",
       "<span class=\"clear_screenshots\"></span><p>Matplotlib tries to make easy things easy and hard things possible. You\n",
       "can generate plots, histograms, power spectra, bar charts, errorcharts,\n",
       "scatterplots, etc., with just a few lines of code. For examples, see the\n",
       "<a class=\"reference internal\" href=\"tutorials/introductory/sample_plots.html\"><span class=\"doc\">sample plots</span></a> and <a class=\"reference internal\" href=\"gallery/index.html\"><span class=\"doc\">thumbnail\n",
       "gallery</span></a>.</p>\n",
       "<p>For simple plotting the <code class=\"xref py py-obj docutils literal notranslate\"><span class=\"pre\">pyplot</span></code> module provides a MATLAB-like interface,\n",
       "particularly when combined with IPython. For the power user, you have full\n",
       "control of line styles, font properties, axes properties, etc, via an object\n",
       "oriented interface or via a set of functions familiar to MATLAB users.</p>\n",
       "<div class=\"section\" id=\"documentation\">\n",
       "<h1>Documentation<a class=\"headerlink\" href=\"#documentation\" title=\"Permalink to this headline\">¶</a></h1>\n",
       "<p>To get started, read the <a class=\"reference internal\" href=\"users/index.html\"><span class=\"doc\">User's Guide</span></a>.</p>\n",
       "<p>Trying to learn how to do a particular kind of plot? Check out the\n",
       "<a class=\"reference internal\" href=\"gallery/index.html\"><span class=\"doc\">examples gallery</span></a> or the <a class=\"reference internal\" href=\"api/pyplot_summary.html\"><span class=\"doc\">list of plotting commands</span></a>.</p>\n",
       "<div class=\"section\" id=\"other-learning-resources\">\n",
       "<h2>Other learning resources<a class=\"headerlink\" href=\"#other-learning-resources\" title=\"Permalink to this headline\">¶</a></h2>\n",
       "<p>There are many <a class=\"reference internal\" href=\"resources/index.html\"><span class=\"doc\">external learning resources</span></a> available\n",
       "including printed material, videos and tutorials.</p>\n",
       "</div>\n",
       "<div class=\"section\" id=\"join-our-community\">\n",
       "<h2>Join our community!<a class=\"headerlink\" href=\"#join-our-community\" title=\"Permalink to this headline\">¶</a></h2>\n",
       "<p>Matplotlib is a welcoming, inclusive project, and we follow the <a class=\"reference external\" href=\"http://www.python.org/psf/codeofconduct/\">Python\n",
       "Software Foundation Code of Conduct</a> in everything we do.</p>\n",
       "<h3>Get help</h3>\n",
       "<div class=\"box\">\n",
       "<div class=\"box-item\">\n",
       "<img src=\"_static/fa/discourse-brands.svg\" alt=\"Discourse\">\n",
       "<p>Join our community at <a href=\"https://discourse.matplotlib.org\">discourse.matplotlib.org</a>\n",
       "to get help, discuss contributing &amp; development, and share your work.</p>\n",
       "</div>\n",
       "<div class=\"box-item\">\n",
       "<img src=\"_static/fa/question-circle-regular.svg\" alt=\"Questions\">\n",
       "<p>If you have questions, be sure to check the <a href=\"faq/index.html\">FAQ</a>,\n",
       "the <a href=\"api/index.html\">API</a> docs. The full text\n",
       "<a href=\"search.html\">search</a> is a good way to discover the docs including the many examples.</p>\n",
       "</div>\n",
       "<div class=\"box-item\">\n",
       "<img src=\"_static/fa/stack-overflow-brands.svg\" alt=\"Stackoverflow\">\n",
       "<p>Check out the Matplotlib tag on <a href=\"http://stackoverflow.com/questions/tagged/matplotlib\">stackoverflow</a>.</p>\n",
       "</div>\n",
       "<div class=\"box-item\">\n",
       "<img src=\"_static/fa/gitter-brands.svg\" alt=\"Gitter\">\n",
       "<p>Short questions may be posted on the <a href=\"https://gitter.im/matplotlib/matplotlib\">gitter channel</a>.</p>\n",
       "</div>\n",
       "</div>\n",
       "<hr class='box-sep'>\n",
       "<h3>News</h3>\n",
       "<div class=\"box\">\n",
       "<div class=\"box-item\">\n",
       "<img src=\"_static/fa/plus-square-regular.svg\" alt=\"News\">\n",
       "<p>To keep up to date with what's going on in Matplotlib, see the\n",
       "<a href=\"users/whats_new.html\">what's new</a> page or browse the\n",
       "<a href=\"https://github.com/matplotlib/matplotlib\">source code</a>. Anything that could\n",
       "require changes to your existing code is logged in the\n",
       "<a href=\"api/api_changes.html\">API changes</a> file.</p>\n",
       "</div>\n",
       "<div class=\"box-item\">\n",
       "<img src=\"_static/fa/hashtag-solid.svg\" alt=\"Social media\">\n",
       "<p>Tweet us at <a href=\"https://twitter.com/matplotlib\">Twitter</a>!\n",
       "or see cool plots on <a href=\"https://www.instagram.com/matplotart/\">Instagram</a>!</p>\n",
       "</div>\n",
       "</div>\n",
       "<hr class='box-sep'>\n",
       "<h3>Development</h3>\n",
       "<div class=\"box\">\n",
       "<div class=\"box-item\">\n",
       "<img src=\"_static/fa/github-brands.svg\" alt=\"Github\">\n",
       "<p>Matplotlib is hosted on <a href=\"https://github.com/matplotlib/matplotlib\">GitHub</a>.</p>\n",
       "<ul>\n",
       "<li>File bugs and feature requests on the <a href=\"https://github.com/matplotlib/matplotlib/issues\">issue tracker</a>.</li>\n",
       "<li><a href=\"https://github.com/matplotlib/matplotlib/pulls\">Pull requests</a> are always welcome.</li>\n",
       "</ul>\n",
       "<p>It is a good idea to ping us on <a href=\"https://discourse.matplotlib.org\">Discourse</a> as well.</p>\n",
       "</div>\n",
       "<div class=\"box-item\">\n",
       "<img src=\"_static/fa/envelope-regular.svg\" alt=\"Mailing lists\">\n",
       "<p>Mailing lists</p>\n",
       "<ul>\n",
       "<li><a href=\"https://mail.python.org/mailman/listinfo/matplotlib-users\">matplotlib-users</a> for usage questions</li>\n",
       "<li><a href=\"https://mail.python.org/mailman/listinfo/matplotlib-devel\">matplotlib-devel</a> for development</li>\n",
       "<li><a href=\"https://mail.python.org/mailman/listinfo/matplotlib-announce\">matplotlib-announce</a> for project announcements</li>\n",
       "</ul>\n",
       "</div>\n",
       "</div><div class=\"section\" id=\"toolkits\">\n",
       "<h3>Toolkits<a class=\"headerlink\" href=\"#toolkits\" title=\"Permalink to this headline\">¶</a></h3>\n",
       "<p>Matplotlib ships with several add-on <a class=\"reference internal\" href=\"api/toolkits/index.html\"><span class=\"doc\">toolkits</span></a>,\n",
       "including 3d plotting with <code class=\"xref py py-obj docutils literal notranslate\"><span class=\"pre\">mplot3d</span></code>, axes helpers in <code class=\"xref py py-obj docutils literal notranslate\"><span class=\"pre\">axes_grid1</span></code> and axis\n",
       "helpers in <code class=\"xref py py-obj docutils literal notranslate\"><span class=\"pre\">axisartist</span></code>.</p>\n",
       "</div>\n",
       "<div class=\"section\" id=\"third-party-packages\">\n",
       "<h3>Third party packages<a class=\"headerlink\" href=\"#third-party-packages\" title=\"Permalink to this headline\">¶</a></h3>\n",
       "<p>A large number of <a class=\"reference internal\" href=\"thirdpartypackages/index.html\"><span class=\"doc\">third party packages</span></a>\n",
       "extend and build on Matplotlib functionality, including several higher-level\n",
       "plotting interfaces (<a class=\"reference external\" href=\"https://seaborn.pydata.org\">seaborn</a>, <a class=\"reference external\" href=\"http://holoviews.org\">holoviews</a>, <a class=\"reference external\" href=\"http://ggplot.yhathq.com\">ggplot</a>, ...), and two projection\n",
       "and mapping toolkits (<a class=\"reference external\" href=\"https://matplotlib.org/basemap\">basemap</a> and <a class=\"reference external\" href=\"https://scitools.org.uk/cartopy/docs/latest\">cartopy</a>).</p>\n",
       "</div>\n",
       "<div class=\"section\" id=\"citing-matplotlib\">\n",
       "<h3>Citing Matplotlib<a class=\"headerlink\" href=\"#citing-matplotlib\" title=\"Permalink to this headline\">¶</a></h3>\n",
       "<p>Matplotlib is the brainchild of John Hunter (1968-2012), who, along with its\n",
       "many contributors, have put an immeasurable amount of time and effort into\n",
       "producing a piece of software utilized by thousands of scientists worldwide.</p>\n",
       "<p>If Matplotlib contributes to a project that leads to a scientific publication,\n",
       "please acknowledge this work by citing the project. A <a class=\"reference internal\" href=\"citing.html\"><span class=\"doc\">ready-made citation\n",
       "entry</span></a> is available.</p>\n",
       "</div>\n",
       "<div class=\"section\" id=\"open-source\">\n",
       "<h3>Open source<a class=\"headerlink\" href=\"#open-source\" title=\"Permalink to this headline\">¶</a></h3>\n",
       "<a href=\"https://www.numfocus.org/\">\n",
       "<img src=\"_static/numfocus_badge.png\" alt=\"A Fiscally Sponsored Project of NUMFocus\" style=\"float:right; margin-left:20px\" />\n",
       "</a><p>Matplotlib is a Sponsored Project of NumFOCUS, a 501(c)(3) nonprofit\n",
       "charity in the United States. NumFOCUS provides Matplotlib with\n",
       "fiscal, legal, and administrative support to help ensure the health\n",
       "and sustainability of the project. Visit <a class=\"reference external\" href=\"nf\">numfocus.org</a> for more\n",
       "information.</p>\n",
       "<p>Donations to Matplotlib are managed by NumFOCUS. For donors in the\n",
       "United States, your gift is tax-deductible to the extent provided by\n",
       "law. As with any donation, you should consult with your tax adviser\n",
       "about your particular tax situation.</p>\n",
       "<p>Please consider <a class=\"reference external\" href=\"https://numfocus.org/donate-to-matplotlib\">donating to the Matplotlib project</a> through\n",
       "the Numfocus organization or to the <a class=\"reference external\" href=\"https://www.numfocus.org/programs/john-hunter-technology-fellowship/\">John Hunter Technology Fellowship</a>.</p>\n",
       "<p>The <a class=\"reference internal\" href=\"users/license.html\"><span class=\"doc\">Matplotlib license</span></a> is based on the <a class=\"reference external\" href=\"http://www.python.org/psf/license\">Python Software\n",
       "Foundation (PSF) license</a>.</p>\n",
       "<p>There is an active developer community and a long list of people who have made\n",
       "significant <a class=\"reference internal\" href=\"users/credits.html\"><span class=\"doc\">contributions</span></a>.</p>\n",
       "</div>\n",
       "</div>\n",
       "</div>\n",
       "</div>\n",
       "</div>\n",
       "</div>\n",
       "<div class=\"clearer\"></div>\n",
       "</div>\n",
       "<div class=\"footer\">\n",
       "&copy; Copyright 2002 - 2012 John Hunter, Darren Dale, Eric Firing, Michael Droettboom and the Matplotlib development team; 2012 - 2018 The Matplotlib development team.\n",
       "<br />\n",
       "Last updated on Feb 09, 2020.\n",
       "Created using\n",
       "<a href=\"http://sphinx-doc.org/\">Sphinx</a> 1.8.5.\n",
       "Doc version v3.1.3-2-g782f6ef56.\n",
       "</div>\n",
       "<script>\n",
       "  (function(i,s,o,g,r,a,m){i['GoogleAnalyticsObject']=r;i[r]=i[r]||function(){\n",
       "  (i[r].q=i[r].q||[]).push(arguments)},i[r].l=1*new Date();a=s.createElement(o),\n",
       "  m=s.getElementsByTagName(o)[0];a.async=1;a.src=g;m.parentNode.insertBefore(a,m)\n",
       "  })(window,document,'script','//www.google-analytics.com/analytics.js','ga');\n",
       "\n",
       "  ga('create', 'UA-55954603-1', 'auto');\n",
       "  ga('send', 'pageview');\n",
       "\n",
       "</script>\n",
       "</body>\n",
       "<footer>\n",
       "</footer>\n",
       "</html>"
      ],
      "text/plain": [
       "<IPython.core.display.HTML object>"
      ]
     },
     "metadata": {},
     "output_type": "display_data"
    }
   ],
   "source": [
    "%%HTML\n",
    "https://matplotlib.org/index.html"
   ]
  },
  {
   "cell_type": "code",
   "execution_count": 3,
   "metadata": {},
   "outputs": [
    {
     "name": "stdout",
     "output_type": "stream",
     "text": [
      "[('Apples', 50), ('Grapefruits', 12), ('Pears', 43), ('Oranges', 38), ('Bananas', 37)]\n"
     ]
    }
   ],
   "source": [
    "# Pyplot Function overview\n",
    "# https://matplotlib.org/3.1.1/api/pyplot_summary.html\n",
    "\n",
    "import matplotlib.pyplot as plt\n",
    "import pickle\n",
    "\n",
    "with open('fruit-sales.pickle', 'rb') as f:\n",
    "    data = pickle.load(f)\n",
    "    \n",
    "print(data)"
   ]
  },
  {
   "cell_type": "code",
   "execution_count": 4,
   "metadata": {},
   "outputs": [
    {
     "name": "stdout",
     "output_type": "stream",
     "text": [
      "('Apples', 'Grapefruits', 'Pears', 'Oranges', 'Bananas')\n",
      "(50, 12, 43, 38, 37)\n"
     ]
    }
   ],
   "source": [
    "#Split the list of tuples into 2 lists\n",
    "fruit, num_sold = zip(*data)\n",
    "\n",
    "print (fruit)\n",
    "print(num_sold)"
   ]
  },
  {
   "cell_type": "code",
   "execution_count": 5,
   "metadata": {},
   "outputs": [
    {
     "data": {
      "image/png": "[encoded data removed]",
      "text/plain": [
       "<Figure size 432x288 with 1 Axes>"
      ]
     },
     "metadata": {
      "needs_background": "light"
     },
     "output_type": "display_data"
    }
   ],
   "source": [
    "# Define bar-chart's X-axis\n",
    "bar_coords = range(len(fruit))\n",
    "\n",
    "# Define the bar-chart\n",
    "plt.bar(bar_coords, num_sold)\n",
    "\n",
    "# Display bar-chart\n",
    "plt.show()"
   ]
  },
  {
   "cell_type": "markdown",
   "metadata": {},
   "source": [
    "### Chart Annotations\n",
    "\n",
    "matplotlib.pyplot API Reference: https://matplotlib.org/3.1.1/api/pyplot_summary.html"
   ]
  },
  {
   "cell_type": "code",
   "execution_count": 6,
   "metadata": {},
   "outputs": [
    {
     "data": {
      "image/png": "[encoded data removed]",
      "text/plain": [
       "<Figure size 432x288 with 1 Axes>"
      ]
     },
     "metadata": {
      "needs_background": "light"
     },
     "output_type": "display_data"
    }
   ],
   "source": [
    "# matplotlib.pyplot.bar(x, height, width=0.8, bottom=None, *, align='center', data=None, **kwargs)\n",
    "plt.bar(bar_coords, num_sold, width=0.9)\n",
    "plt.title('Total Number of Fruit Sold Today')\n",
    "plt.ylabel('Quantity')\n",
    "plt.xlabel('Fruit')\n",
    "plt.fill(False)\n",
    "#Replace the coordinates on X-Axis with the actual fruit names\n",
    "# xticks command receives 2 arrays\n",
    "plt.xticks(bar_coords, fruit)\n",
    "plt.show()"
   ]
  },
  {
   "cell_type": "markdown",
   "metadata": {},
   "source": [
    "## Bar Chart (Horizontal)"
   ]
  },
  {
   "cell_type": "code",
   "execution_count": 7,
   "metadata": {},
   "outputs": [
    {
     "name": "stdout",
     "output_type": "stream",
     "text": [
      "[('Engineering manager', 10.2), ('Desktop/enterprise applications developer', 7.7), ('Embedded applications or devices developer', 7.5), ('Database administrator', 6.9), ('Educator or academic researcher', 6.2), ('Designer', 6.0), ('QA or test developer', 5.8), ('Data scientist or ML specialist', 5.5), ('Mobile developer', 5.2), ('Game or graphics developer', 4.6)]\n"
     ]
    }
   ],
   "source": [
    "with open('coding-exp-by-dev-type.pickle', 'rb') as f:\n",
    "    data = pickle.load(f)\n",
    "    \n",
    "print(data)"
   ]
  },
  {
   "cell_type": "code",
   "execution_count": 8,
   "metadata": {},
   "outputs": [
    {
     "name": "stdout",
     "output_type": "stream",
     "text": [
      "('Engineering manager', 'Desktop/enterprise applications developer', 'Embedded applications or devices developer', 'Database administrator', 'Educator or academic researcher', 'Designer', 'QA or test developer', 'Data scientist or ML specialist', 'Mobile developer', 'Game or graphics developer')\n",
      "(10.2, 7.7, 7.5, 6.9, 6.2, 6.0, 5.8, 5.5, 5.2, 4.6)\n"
     ]
    }
   ],
   "source": [
    "#Split the list of tuples into 2 lists\n",
    "dev_types, years_exp = zip(*data)\n",
    "\n",
    "print(dev_types)\n",
    "print(years_exp)"
   ]
  },
  {
   "cell_type": "code",
   "execution_count": 9,
   "metadata": {},
   "outputs": [
    {
     "data": {
      "image/png": "[encoded data removed]",
      "text/plain": [
       "<Figure size 432x288 with 1 Axes>"
      ]
     },
     "metadata": {
      "needs_background": "light"
     },
     "output_type": "display_data"
    }
   ],
   "source": [
    "# matplotlib.pyplot.barh(y, width, height=0.8, left=None, *, align='center', **kwargs)\n",
    "# https://matplotlib.org/3.1.1/api/_as_gen/matplotlib.pyplot.barh.html#matplotlib.pyplot.barh\n",
    "plt.barh(dev_types, years_exp, left=1, height=0.4, align='edge')\n",
    "plt.title('Years of xperience vrs developer type chart')\n",
    "plt.xlabel('Years of experience')\n",
    "#plt.tight_layout()\n",
    "#plt.color()\n",
    "plt.show()"
   ]
  },
  {
   "cell_type": "markdown",
   "metadata": {},
   "source": [
    "## Line Charts\n",
    "\n",
    "Import, upload and split the data file.\n",
    "\n",
    "Este archivo de ranking de lenguajes de programación contiene datos en varios niveles:\n",
    "1) Nivel 1: Lenguaje: \"Java\"\n",
    "2) Año: 2018, 2013, 2008, 2003, 1998\n",
    "3) Ranking para ese año: 1, 2, 1, 1, 16"
   ]
  },
  {
   "cell_type": "code",
   "execution_count": 10,
   "metadata": {},
   "outputs": [
    {
     "name": "stdout",
     "output_type": "stream",
     "text": [
      "[('Java', [(2018, 1), (2013, 2), (2008, 1), (2003, 1), (1998, 16)]), ('C', [(2018, 2), (2013, 1), (2008, 2), (2003, 2), (1998, 1), (1993, 1), (1988, 1)]), ('C++', [(2018, 3), (2013, 4), (2008, 3), (2003, 3), (1998, 2), (1993, 2), (1988, 4)]), ('Python', [(2018, 4), (2013, 7), (2008, 6), (2003, 11), (1998, 23), (1993, 17)])]\n",
      " \n",
      "Languages:  ('Java', 'C', 'C++', 'Python')\n",
      " \n",
      "Rankings:  ([(2018, 1), (2013, 2), (2008, 1), (2003, 1), (1998, 16)], [(2018, 2), (2013, 1), (2008, 2), (2003, 2), (1998, 1), (1993, 1), (1988, 1)], [(2018, 3), (2013, 4), (2008, 3), (2003, 3), (1998, 2), (1993, 2), (1988, 4)], [(2018, 4), (2013, 7), (2008, 6), (2003, 11), (1998, 23), (1993, 17)])\n",
      "Ranking es aun una lista de listas\n",
      " \n",
      "Java Years:  (2018, 2013, 2008, 2003, 1998)\n",
      "Java Rankings:  (1, 2, 1, 1, 16)\n"
     ]
    }
   ],
   "source": [
    "with open('prog-langs-popularity.pickle', 'rb') as f:\n",
    "    data = pickle.load(f)\n",
    "    \n",
    "print(data)\n",
    "print(' ')\n",
    "\n",
    "#Split the list of tuples into 2 lists\n",
    "languages, rankings = zip(*data)\n",
    "print('Languages: ', languages)\n",
    "print(' ')\n",
    "\n",
    "print('Rankings: ', rankings)\n",
    "print('Ranking es aun una lista de listas')\n",
    "print(' ')\n",
    "\n",
    "java_years, java_ranks = zip(*rankings[0])\n",
    "print('Java Years: ', java_years)\n",
    "print('Java Rankings: ', java_ranks)"
   ]
  },
  {
   "cell_type": "code",
   "execution_count": 11,
   "metadata": {},
   "outputs": [
    {
     "data": {
      "image/png": "[encoded data removed]",
      "text/plain": [
       "<Figure size 432x288 with 1 Axes>"
      ]
     },
     "metadata": {
      "needs_background": "light"
     },
     "output_type": "display_data"
    }
   ],
   "source": [
    "plt.plot(java_years, java_ranks)\n",
    "plt.title('Java Ranking vrs year')\n",
    "plt.xticks(java_years)\n",
    "plt.xlabel('Year')\n",
    "plt.ylabel('Ranking')\n",
    "\n",
    "plt.show()"
   ]
  },
  {
   "cell_type": "markdown",
   "metadata": {},
   "source": [
    "## Multiline Charts"
   ]
  },
  {
   "cell_type": "code",
   "execution_count": 12,
   "metadata": {},
   "outputs": [
    {
     "data": {
      "image/png": "[encoded data removed]",
      "text/plain": [
       "<Figure size 432x288 with 1 Axes>"
      ]
     },
     "metadata": {
      "needs_background": "light"
     },
     "output_type": "display_data"
    }
   ],
   "source": [
    "for i in range(len(languages)):\n",
    "    years, ranks = zip(*rankings[i])\n",
    "    # matplotlib.pyplot.plot(*args, scalex=True, scaley=True, data=None, **kwargs)\n",
    "    plt.plot(years, ranks)\n",
    "\n",
    "# Format chart\n",
    "plt.legend(languages)\n",
    "plt.title('Ranking of programming languages by year')\n",
    "plt.xlabel('Year')\n",
    "plt.ylabel('Ranking')\n",
    "    \n",
    "plt.show()"
   ]
  },
  {
   "cell_type": "markdown",
   "metadata": {},
   "source": [
    "## Scatter Plots\n",
    "\n",
    "The 'iris.pickle' file has a large number of data, that has length and width measurements of sepals and petals of flowers.\n",
    "\n",
    "'DESCR': 'Iris Plants Database\n",
    "=========================\n",
    "\n",
    "Notes\n",
    "--------\n",
    "Data Set Characteristics:\n",
    ":Number of Instances: 150 (50 in each of three classes)\n",
    ":Number of Attributes: 4 numeric, predictive attributes and the class\n",
    ":Attribute Information:\n",
    "\\- sepal length in cm\n",
    "\\- sepal width in cm\n",
    "\\- petal length in cm\n",
    "\\- petal width in cm\n",
    "\\- class:\n",
    "   \\- Iris-Setosa\\n                - Iris-Versicolour\\n                - Iris-Virginica\\n    :Summary Statistics:\\n\\n    ============== ==== ==== ======= ===== ====================\\n                    Min  Max   Mean    SD   Class Correlation\\n    ============== ==== ==== ======= ===== ====================\\n    sepal length:   4.3  7.9   5.84   0.83    0.7826\\n    sepal width:    2.0  4.4   3.05   0.43   -0.4194\\n    petal length:   1.0  6.9   3.76   1.76    0.9490  (high!)\\n    petal width:    0.1  2.5   1.20  0.76     0.9565  (high!)\\n    ============== ==== ==== ======= ===== ====================\\n\\n    :Missing Attribute Values: None\\n    :Class Distribution: 33.3% for each of 3 classes.\\n    :Creator: R.A. Fisher\\n    :Donor: Michael Marshall (MARSHALL%PLU@io.arc.nasa.gov)\\n    :Date: July, 1988\\n\\nThis is a copy of UCI ML iris datasets.\\nhttp://archive.ics.uci.edu/ml/datasets/Iris\\n\\nThe famous Iris database, first used by Sir R.A Fisher\\n\\nThis is perhaps the best known database to be found in the\\npattern recognition literature.  Fisher\\'s paper is a classic in the field and\\nis referenced frequently to this day.  (See Duda & Hart, for example.)  The\\ndata set contains 3 classes of 50 instances each, where each class refers to a\\ntype of iris plant.  One class is linearly separable from the other 2; the\\nlatter are NOT linearly separable from each other.\\n\\nReferences\\n----------\\n   - Fisher,R.A. \"The use of multiple measurements in taxonomic problems\"\\n     Annual Eugenics, 7, Part II, 179-188 (1936); also in \"Contributions to\\n     Mathematical Statistics\" (John Wiley, NY, 1950).\\n   - Duda,R.O., & Hart,P.E. (1973) Pattern Classification and Scene Analysis.\\n     (Q327.D83) John Wiley & Sons.  ISBN 0-471-22361-1.  See page 218.\\n   - Dasarathy, B.V. (1980) \"Nosing Around the Neighborhood: A New System\\n     Structure and Classification Rule for Recognition in Partially Exposed\\n     Environments\".  IEEE Transactions on Pattern Analysis and Machine\\n     Intelligence, Vol. PAMI-2, No. 1, 67-71.\\n   - Gates, G.W. (1972) \"The Reduced Nearest Neighbor Rule\".  IEEE Transactions\\n     on Information Theory, May 1972, 431-433.\\n   - See also: 1988 MLC Proceedings, 54-64.  Cheeseman et al\"s AUTOCLASS II\\n     conceptual clustering system finds 3 classes in the data.   \n",
    "\\- Many, many more ...\n",
    "'feature_names': ['sepal length (cm)', 'sepal width (cm)', 'petal length (cm)', 'petal width (cm)'"
   ]
  },
  {
   "cell_type": "code",
   "execution_count": 18,
   "metadata": {
    "scrolled": true
   },
   "outputs": [
    {
     "name": "stdout",
     "output_type": "stream",
     "text": [
      "Iris Dictionary Content: \n",
      " {'data': array([[5.1, 3.5, 1.4, 0.2],\n",
      "       [4.9, 3. , 1.4, 0.2],\n",
      "       [4.7, 3.2, 1.3, 0.2],\n",
      "       [4.6, 3.1, 1.5, 0.2],\n",
      "       [5. , 3.6, 1.4, 0.2],\n",
      "       [5.4, 3.9, 1.7, 0.4],\n",
      "       [4.6, 3.4, 1.4, 0.3],\n",
      "       [5. , 3.4, 1.5, 0.2],\n",
      "       [4.4, 2.9, 1.4, 0.2],\n",
      "       [4.9, 3.1, 1.5, 0.1],\n",
      "       [5.4, 3.7, 1.5, 0.2],\n",
      "       [4.8, 3.4, 1.6, 0.2],\n",
      "       [4.8, 3. , 1.4, 0.1],\n",
      "       [4.3, 3. , 1.1, 0.1],\n",
      "       [5.8, 4. , 1.2, 0.2],\n",
      "       [5.7, 4.4, 1.5, 0.4],\n",
      "       [5.4, 3.9, 1.3, 0.4],\n",
      "       [5.1, 3.5, 1.4, 0.3],\n",
      "       [5.7, 3.8, 1.7, 0.3],\n",
      "       [5.1, 3.8, 1.5, 0.3],\n",
      "       [5.4, 3.4, 1.7, 0.2],\n",
      "       [5.1, 3.7, 1.5, 0.4],\n",
      "       [4.6, 3.6, 1. , 0.2],\n",
      "       [5.1, 3.3, 1.7, 0.5],\n",
      "       [4.8, 3.4, 1.9, 0.2],\n",
      "       [5. , 3. , 1.6, 0.2],\n",
      "       [5. , 3.4, 1.6, 0.4],\n",
      "       [5.2, 3.5, 1.5, 0.2],\n",
      "       [5.2, 3.4, 1.4, 0.2],\n",
      "       [4.7, 3.2, 1.6, 0.2],\n",
      "       [4.8, 3.1, 1.6, 0.2],\n",
      "       [5.4, 3.4, 1.5, 0.4],\n",
      "       [5.2, 4.1, 1.5, 0.1],\n",
      "       [5.5, 4.2, 1.4, 0.2],\n",
      "       [4.9, 3.1, 1.5, 0.1],\n",
      "       [5. , 3.2, 1.2, 0.2],\n",
      "       [5.5, 3.5, 1.3, 0.2],\n",
      "       [4.9, 3.1, 1.5, 0.1],\n",
      "       [4.4, 3. , 1.3, 0.2],\n",
      "       [5.1, 3.4, 1.5, 0.2],\n",
      "       [5. , 3.5, 1.3, 0.3],\n",
      "       [4.5, 2.3, 1.3, 0.3],\n",
      "       [4.4, 3.2, 1.3, 0.2],\n",
      "       [5. , 3.5, 1.6, 0.6],\n",
      "       [5.1, 3.8, 1.9, 0.4],\n",
      "       [4.8, 3. , 1.4, 0.3],\n",
      "       [5.1, 3.8, 1.6, 0.2],\n",
      "       [4.6, 3.2, 1.4, 0.2],\n",
      "       [5.3, 3.7, 1.5, 0.2],\n",
      "       [5. , 3.3, 1.4, 0.2],\n",
      "       [7. , 3.2, 4.7, 1.4],\n",
      "       [6.4, 3.2, 4.5, 1.5],\n",
      "       [6.9, 3.1, 4.9, 1.5],\n",
      "       [5.5, 2.3, 4. , 1.3],\n",
      "       [6.5, 2.8, 4.6, 1.5],\n",
      "       [5.7, 2.8, 4.5, 1.3],\n",
      "       [6.3, 3.3, 4.7, 1.6],\n",
      "       [4.9, 2.4, 3.3, 1. ],\n",
      "       [6.6, 2.9, 4.6, 1.3],\n",
      "       [5.2, 2.7, 3.9, 1.4],\n",
      "       [5. , 2. , 3.5, 1. ],\n",
      "       [5.9, 3. , 4.2, 1.5],\n",
      "       [6. , 2.2, 4. , 1. ],\n",
      "       [6.1, 2.9, 4.7, 1.4],\n",
      "       [5.6, 2.9, 3.6, 1.3],\n",
      "       [6.7, 3.1, 4.4, 1.4],\n",
      "       [5.6, 3. , 4.5, 1.5],\n",
      "       [5.8, 2.7, 4.1, 1. ],\n",
      "       [6.2, 2.2, 4.5, 1.5],\n",
      "       [5.6, 2.5, 3.9, 1.1],\n",
      "       [5.9, 3.2, 4.8, 1.8],\n",
      "       [6.1, 2.8, 4. , 1.3],\n",
      "       [6.3, 2.5, 4.9, 1.5],\n",
      "       [6.1, 2.8, 4.7, 1.2],\n",
      "       [6.4, 2.9, 4.3, 1.3],\n",
      "       [6.6, 3. , 4.4, 1.4],\n",
      "       [6.8, 2.8, 4.8, 1.4],\n",
      "       [6.7, 3. , 5. , 1.7],\n",
      "       [6. , 2.9, 4.5, 1.5],\n",
      "       [5.7, 2.6, 3.5, 1. ],\n",
      "       [5.5, 2.4, 3.8, 1.1],\n",
      "       [5.5, 2.4, 3.7, 1. ],\n",
      "       [5.8, 2.7, 3.9, 1.2],\n",
      "       [6. , 2.7, 5.1, 1.6],\n",
      "       [5.4, 3. , 4.5, 1.5],\n",
      "       [6. , 3.4, 4.5, 1.6],\n",
      "       [6.7, 3.1, 4.7, 1.5],\n",
      "       [6.3, 2.3, 4.4, 1.3],\n",
      "       [5.6, 3. , 4.1, 1.3],\n",
      "       [5.5, 2.5, 4. , 1.3],\n",
      "       [5.5, 2.6, 4.4, 1.2],\n",
      "       [6.1, 3. , 4.6, 1.4],\n",
      "       [5.8, 2.6, 4. , 1.2],\n",
      "       [5. , 2.3, 3.3, 1. ],\n",
      "       [5.6, 2.7, 4.2, 1.3],\n",
      "       [5.7, 3. , 4.2, 1.2],\n",
      "       [5.7, 2.9, 4.2, 1.3],\n",
      "       [6.2, 2.9, 4.3, 1.3],\n",
      "       [5.1, 2.5, 3. , 1.1],\n",
      "       [5.7, 2.8, 4.1, 1.3],\n",
      "       [6.3, 3.3, 6. , 2.5],\n",
      "       [5.8, 2.7, 5.1, 1.9],\n",
      "       [7.1, 3. , 5.9, 2.1],\n",
      "       [6.3, 2.9, 5.6, 1.8],\n",
      "       [6.5, 3. , 5.8, 2.2],\n",
      "       [7.6, 3. , 6.6, 2.1],\n",
      "       [4.9, 2.5, 4.5, 1.7],\n",
      "       [7.3, 2.9, 6.3, 1.8],\n",
      "       [6.7, 2.5, 5.8, 1.8],\n",
      "       [7.2, 3.6, 6.1, 2.5],\n",
      "       [6.5, 3.2, 5.1, 2. ],\n",
      "       [6.4, 2.7, 5.3, 1.9],\n",
      "       [6.8, 3. , 5.5, 2.1],\n",
      "       [5.7, 2.5, 5. , 2. ],\n",
      "       [5.8, 2.8, 5.1, 2.4],\n",
      "       [6.4, 3.2, 5.3, 2.3],\n",
      "       [6.5, 3. , 5.5, 1.8],\n",
      "       [7.7, 3.8, 6.7, 2.2],\n",
      "       [7.7, 2.6, 6.9, 2.3],\n",
      "       [6. , 2.2, 5. , 1.5],\n",
      "       [6.9, 3.2, 5.7, 2.3],\n",
      "       [5.6, 2.8, 4.9, 2. ],\n",
      "       [7.7, 2.8, 6.7, 2. ],\n",
      "       [6.3, 2.7, 4.9, 1.8],\n",
      "       [6.7, 3.3, 5.7, 2.1],\n",
      "       [7.2, 3.2, 6. , 1.8],\n",
      "       [6.2, 2.8, 4.8, 1.8],\n",
      "       [6.1, 3. , 4.9, 1.8],\n",
      "       [6.4, 2.8, 5.6, 2.1],\n",
      "       [7.2, 3. , 5.8, 1.6],\n",
      "       [7.4, 2.8, 6.1, 1.9],\n",
      "       [7.9, 3.8, 6.4, 2. ],\n",
      "       [6.4, 2.8, 5.6, 2.2],\n",
      "       [6.3, 2.8, 5.1, 1.5],\n",
      "       [6.1, 2.6, 5.6, 1.4],\n",
      "       [7.7, 3. , 6.1, 2.3],\n",
      "       [6.3, 3.4, 5.6, 2.4],\n",
      "       [6.4, 3.1, 5.5, 1.8],\n",
      "       [6. , 3. , 4.8, 1.8],\n",
      "       [6.9, 3.1, 5.4, 2.1],\n",
      "       [6.7, 3.1, 5.6, 2.4],\n",
      "       [6.9, 3.1, 5.1, 2.3],\n",
      "       [5.8, 2.7, 5.1, 1.9],\n",
      "       [6.8, 3.2, 5.9, 2.3],\n",
      "       [6.7, 3.3, 5.7, 2.5],\n",
      "       [6.7, 3. , 5.2, 2.3],\n",
      "       [6.3, 2.5, 5. , 1.9],\n",
      "       [6.5, 3. , 5.2, 2. ],\n",
      "       [6.2, 3.4, 5.4, 2.3],\n",
      "       [5.9, 3. , 5.1, 1.8]]), 'target': array([0, 0, 0, 0, 0, 0, 0, 0, 0, 0, 0, 0, 0, 0, 0, 0, 0, 0, 0, 0, 0, 0,\n",
      "       0, 0, 0, 0, 0, 0, 0, 0, 0, 0, 0, 0, 0, 0, 0, 0, 0, 0, 0, 0, 0, 0,\n",
      "       0, 0, 0, 0, 0, 0, 1, 1, 1, 1, 1, 1, 1, 1, 1, 1, 1, 1, 1, 1, 1, 1,\n",
      "       1, 1, 1, 1, 1, 1, 1, 1, 1, 1, 1, 1, 1, 1, 1, 1, 1, 1, 1, 1, 1, 1,\n",
      "       1, 1, 1, 1, 1, 1, 1, 1, 1, 1, 1, 1, 2, 2, 2, 2, 2, 2, 2, 2, 2, 2,\n",
      "       2, 2, 2, 2, 2, 2, 2, 2, 2, 2, 2, 2, 2, 2, 2, 2, 2, 2, 2, 2, 2, 2,\n",
      "       2, 2, 2, 2, 2, 2, 2, 2, 2, 2, 2, 2, 2, 2, 2, 2, 2, 2], dtype=int64), 'target_names': array(['setosa', 'versicolor', 'virginica'], dtype='<U10'), 'DESCR': 'Iris Plants Database\\n====================\\n\\nNotes\\n-----\\nData Set Characteristics:\\n    :Number of Instances: 150 (50 in each of three classes)\\n    :Number of Attributes: 4 numeric, predictive attributes and the class\\n    :Attribute Information:\\n        - sepal length in cm\\n        - sepal width in cm\\n        - petal length in cm\\n        - petal width in cm\\n        - class:\\n                - Iris-Setosa\\n                - Iris-Versicolour\\n                - Iris-Virginica\\n    :Summary Statistics:\\n\\n    ============== ==== ==== ======= ===== ====================\\n                    Min  Max   Mean    SD   Class Correlation\\n    ============== ==== ==== ======= ===== ====================\\n    sepal length:   4.3  7.9   5.84   0.83    0.7826\\n    sepal width:    2.0  4.4   3.05   0.43   -0.4194\\n    petal length:   1.0  6.9   3.76   1.76    0.9490  (high!)\\n    petal width:    0.1  2.5   1.20  0.76     0.9565  (high!)\\n    ============== ==== ==== ======= ===== ====================\\n\\n    :Missing Attribute Values: None\\n    :Class Distribution: 33.3% for each of 3 classes.\\n    :Creator: R.A. Fisher\\n    :Donor: Michael Marshall (MARSHALL%PLU@io.arc.nasa.gov)\\n    :Date: July, 1988\\n\\nThis is a copy of UCI ML iris datasets.\\nhttp://archive.ics.uci.edu/ml/datasets/Iris\\n\\nThe famous Iris database, first used by Sir R.A Fisher\\n\\nThis is perhaps the best known database to be found in the\\npattern recognition literature.  Fisher\\'s paper is a classic in the field and\\nis referenced frequently to this day.  (See Duda & Hart, for example.)  The\\ndata set contains 3 classes of 50 instances each, where each class refers to a\\ntype of iris plant.  One class is linearly separable from the other 2; the\\nlatter are NOT linearly separable from each other.\\n\\nReferences\\n----------\\n   - Fisher,R.A. \"The use of multiple measurements in taxonomic problems\"\\n     Annual Eugenics, 7, Part II, 179-188 (1936); also in \"Contributions to\\n     Mathematical Statistics\" (John Wiley, NY, 1950).\\n   - Duda,R.O., & Hart,P.E. (1973) Pattern Classification and Scene Analysis.\\n     (Q327.D83) John Wiley & Sons.  ISBN 0-471-22361-1.  See page 218.\\n   - Dasarathy, B.V. (1980) \"Nosing Around the Neighborhood: A New System\\n     Structure and Classification Rule for Recognition in Partially Exposed\\n     Environments\".  IEEE Transactions on Pattern Analysis and Machine\\n     Intelligence, Vol. PAMI-2, No. 1, 67-71.\\n   - Gates, G.W. (1972) \"The Reduced Nearest Neighbor Rule\".  IEEE Transactions\\n     on Information Theory, May 1972, 431-433.\\n   - See also: 1988 MLC Proceedings, 54-64.  Cheeseman et al\"s AUTOCLASS II\\n     conceptual clustering system finds 3 classes in the data.\\n   - Many, many more ...\\n', 'feature_names': ['sepal length (cm)', 'sepal width (cm)', 'petal length (cm)', 'petal width (cm)']} \n",
      "\n"
     ]
    }
   ],
   "source": [
    "with open('iris.pickle', 'rb') as f:\n",
    "    iris = pickle.load(f)\n",
    "  \n",
    "print('Iris Dictionary Content: \\n', iris,'\\n')\n"
   ]
  },
  {
   "cell_type": "markdown",
   "metadata": {},
   "source": [
    "# Extracting data from  file\n",
    "\n",
    "Extract the data from the dictionary (\\'iris\\') only for the \\'data\\' array and assigning each column to a variable in this order:\n",
    "\\- Sepal length in cm \n",
    "\\- Sepal width in cm \n",
    "\\- Petal length in cm \n",
    "\\- Petal width in cm"
   ]
  },
  {
   "cell_type": "code",
   "execution_count": 19,
   "metadata": {
    "scrolled": true
   },
   "outputs": [
    {
     "name": "stdout",
     "output_type": "stream",
     "text": [
      "Sepal Length:  [5.1 4.9 4.7 4.6 5.  5.4 4.6 5.  4.4 4.9 5.4 4.8 4.8 4.3 5.8 5.7 5.4 5.1\n",
      " 5.7 5.1 5.4 5.1 4.6 5.1 4.8 5.  5.  5.2 5.2 4.7 4.8 5.4 5.2 5.5 4.9 5.\n",
      " 5.5 4.9 4.4 5.1 5.  4.5 4.4 5.  5.1 4.8 5.1 4.6 5.3 5.  7.  6.4 6.9 5.5\n",
      " 6.5 5.7 6.3 4.9 6.6 5.2 5.  5.9 6.  6.1 5.6 6.7 5.6 5.8 6.2 5.6 5.9 6.1\n",
      " 6.3 6.1 6.4 6.6 6.8 6.7 6.  5.7 5.5 5.5 5.8 6.  5.4 6.  6.7 6.3 5.6 5.5\n",
      " 5.5 6.1 5.8 5.  5.6 5.7 5.7 6.2 5.1 5.7 6.3 5.8 7.1 6.3 6.5 7.6 4.9 7.3\n",
      " 6.7 7.2 6.5 6.4 6.8 5.7 5.8 6.4 6.5 7.7 7.7 6.  6.9 5.6 7.7 6.3 6.7 7.2\n",
      " 6.2 6.1 6.4 7.2 7.4 7.9 6.4 6.3 6.1 7.7 6.3 6.4 6.  6.9 6.7 6.9 5.8 6.8\n",
      " 6.7 6.7 6.3 6.5 6.2 5.9] \n",
      "\n",
      "Sepal Width:  [3.5 3.  3.2 3.1 3.6 3.9 3.4 3.4 2.9 3.1 3.7 3.4 3.  3.  4.  4.4 3.9 3.5\n",
      " 3.8 3.8 3.4 3.7 3.6 3.3 3.4 3.  3.4 3.5 3.4 3.2 3.1 3.4 4.1 4.2 3.1 3.2\n",
      " 3.5 3.1 3.  3.4 3.5 2.3 3.2 3.5 3.8 3.  3.8 3.2 3.7 3.3 3.2 3.2 3.1 2.3\n",
      " 2.8 2.8 3.3 2.4 2.9 2.7 2.  3.  2.2 2.9 2.9 3.1 3.  2.7 2.2 2.5 3.2 2.8\n",
      " 2.5 2.8 2.9 3.  2.8 3.  2.9 2.6 2.4 2.4 2.7 2.7 3.  3.4 3.1 2.3 3.  2.5\n",
      " 2.6 3.  2.6 2.3 2.7 3.  2.9 2.9 2.5 2.8 3.3 2.7 3.  2.9 3.  3.  2.5 2.9\n",
      " 2.5 3.6 3.2 2.7 3.  2.5 2.8 3.2 3.  3.8 2.6 2.2 3.2 2.8 2.8 2.7 3.3 3.2\n",
      " 2.8 3.  2.8 3.  2.8 3.8 2.8 2.8 2.6 3.  3.4 3.1 3.  3.1 3.1 3.1 2.7 3.2\n",
      " 3.3 3.  2.5 3.  3.4 3. ] \n",
      "\n",
      "Pepal Length:  [1.4 1.4 1.3 1.5 1.4 1.7 1.4 1.5 1.4 1.5 1.5 1.6 1.4 1.1 1.2 1.5 1.3 1.4\n",
      " 1.7 1.5 1.7 1.5 1.  1.7 1.9 1.6 1.6 1.5 1.4 1.6 1.6 1.5 1.5 1.4 1.5 1.2\n",
      " 1.3 1.5 1.3 1.5 1.3 1.3 1.3 1.6 1.9 1.4 1.6 1.4 1.5 1.4 4.7 4.5 4.9 4.\n",
      " 4.6 4.5 4.7 3.3 4.6 3.9 3.5 4.2 4.  4.7 3.6 4.4 4.5 4.1 4.5 3.9 4.8 4.\n",
      " 4.9 4.7 4.3 4.4 4.8 5.  4.5 3.5 3.8 3.7 3.9 5.1 4.5 4.5 4.7 4.4 4.1 4.\n",
      " 4.4 4.6 4.  3.3 4.2 4.2 4.2 4.3 3.  4.1 6.  5.1 5.9 5.6 5.8 6.6 4.5 6.3\n",
      " 5.8 6.1 5.1 5.3 5.5 5.  5.1 5.3 5.5 6.7 6.9 5.  5.7 4.9 6.7 4.9 5.7 6.\n",
      " 4.8 4.9 5.6 5.8 6.1 6.4 5.6 5.1 5.6 6.1 5.6 5.5 4.8 5.4 5.6 5.1 5.1 5.9\n",
      " 5.7 5.2 5.  5.2 5.4 5.1] \n",
      "\n",
      "Pepal Width:  [0.2 0.2 0.2 0.2 0.2 0.4 0.3 0.2 0.2 0.1 0.2 0.2 0.1 0.1 0.2 0.4 0.4 0.3\n",
      " 0.3 0.3 0.2 0.4 0.2 0.5 0.2 0.2 0.4 0.2 0.2 0.2 0.2 0.4 0.1 0.2 0.1 0.2\n",
      " 0.2 0.1 0.2 0.2 0.3 0.3 0.2 0.6 0.4 0.3 0.2 0.2 0.2 0.2 1.4 1.5 1.5 1.3\n",
      " 1.5 1.3 1.6 1.  1.3 1.4 1.  1.5 1.  1.4 1.3 1.4 1.5 1.  1.5 1.1 1.8 1.3\n",
      " 1.5 1.2 1.3 1.4 1.4 1.7 1.5 1.  1.1 1.  1.2 1.6 1.5 1.6 1.5 1.3 1.3 1.3\n",
      " 1.2 1.4 1.2 1.  1.3 1.2 1.3 1.3 1.1 1.3 2.5 1.9 2.1 1.8 2.2 2.1 1.7 1.8\n",
      " 1.8 2.5 2.  1.9 2.1 2.  2.4 2.3 1.8 2.2 2.3 1.5 2.3 2.  2.  1.8 2.1 1.8\n",
      " 1.8 1.8 2.1 1.6 1.9 2.  2.2 1.5 1.4 2.3 2.4 1.8 1.8 2.1 2.4 2.3 1.9 2.3\n",
      " 2.5 2.3 1.9 2.  2.3 1.8] \n",
      "\n"
     ]
    }
   ],
   "source": [
    "sepal_length = iris['data'][:,0]\n",
    "sepal_width = iris['data'][:,1]\n",
    "petal_length = iris['data'][:,2]\n",
    "petal_width = iris['data'][:,3]\n",
    "\n",
    "print('Sepal Length: ', sepal_length, '\\n')\n",
    "print('Sepal Width: ', sepal_width, '\\n')\n",
    "print('Pepal Length: ', petal_length, '\\n')\n",
    "print('Pepal Width: ', petal_width, '\\n')"
   ]
  },
  {
   "cell_type": "code",
   "execution_count": null,
   "metadata": {},
   "outputs": [],
   "source": []
  }
 ],
 "metadata": {
  "kernelspec": {
   "display_name": "Python 3",
   "language": "python",
   "name": "python3"
  },
  "language_info": {
   "codemirror_mode": {
    "name": "ipython",
    "version": 3
   },
   "file_extension": ".py",
   "mimetype": "text/x-python",
   "name": "python",
   "nbconvert_exporter": "python",
   "pygments_lexer": "ipython3",
   "version": "3.7.4"
  }
 },
 "nbformat": 4,
 "nbformat_minor": 2
}

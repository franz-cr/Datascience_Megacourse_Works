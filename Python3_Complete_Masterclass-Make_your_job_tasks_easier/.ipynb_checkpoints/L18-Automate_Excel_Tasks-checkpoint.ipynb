{
 "cells": [
  {
   "cell_type": "markdown",
   "metadata": {},
   "source": [
    "# 18. Automate Excel Files Tasks\n",
    "\n",
    "## P1 - Loading an Excel workbook\n",
    "\n",
    "### 'openpyxl' a Python library to read/write Excel files\n",
    "\n",
    "REF: https://openpyxl.readthedocs.io/en/stable/index.html"
   ]
  },
  {
   "cell_type": "code",
   "execution_count": 1,
   "metadata": {},
   "outputs": [
    {
     "data": {
      "text/plain": [
       "<openpyxl.packaging.core.DocumentProperties object>\n",
       "Parameters:\n",
       "creator='openpyxl', title=None, description=None, subject=None, identifier=None, language=None, created=datetime.datetime(2018, 10, 30, 18, 20, 56), modified=datetime.datetime(2018, 10, 30, 18, 20, 56), lastModifiedBy=None, category=None, contentStatus=None, version=None, revision=None, keywords=None, lastPrinted=None"
      ]
     },
     "execution_count": 1,
     "metadata": {},
     "output_type": "execute_result"
    }
   ],
   "source": [
    "import openpyxl as xls\n",
    "\n",
    "myWorkbook = xls.load_workbook(\"MyCompanyStaff-Copy.xlsx\")\n",
    "\n",
    "myWorkbook.properties\n"
   ]
  },
  {
   "cell_type": "markdown",
   "metadata": {},
   "source": [
    "## P2 - Some operations some on Excel worksheets "
   ]
  },
  {
   "cell_type": "code",
   "execution_count": 2,
   "metadata": {},
   "outputs": [
    {
     "data": {
      "text/plain": [
       "['Employees']"
      ]
     },
     "execution_count": 2,
     "metadata": {},
     "output_type": "execute_result"
    }
   ],
   "source": [
    "myWorkbook.sheetnames"
   ]
  },
  {
   "cell_type": "code",
   "execution_count": 3,
   "metadata": {},
   "outputs": [
    {
     "data": {
      "text/plain": [
       "<Worksheet \"Employees\">"
      ]
     },
     "execution_count": 3,
     "metadata": {},
     "output_type": "execute_result"
    }
   ],
   "source": [
    "myWorkbook.active"
   ]
  },
  {
   "cell_type": "code",
   "execution_count": 5,
   "metadata": {},
   "outputs": [
    {
     "data": {
      "text/plain": [
       "<Cell 'Employees'.B1>"
      ]
     },
     "execution_count": 5,
     "metadata": {},
     "output_type": "execute_result"
    }
   ],
   "source": [
    "mySheet = myWorkbook[\"Employees\"]\n",
    "\n",
    "mySheet['B1']"
   ]
  },
  {
   "cell_type": "code",
   "execution_count": 6,
   "metadata": {},
   "outputs": [
    {
     "data": {
      "text/plain": [
       "<Worksheet \"Test Sheet\">"
      ]
     },
     "execution_count": 6,
     "metadata": {},
     "output_type": "execute_result"
    }
   ],
   "source": [
    "myWorkbook.create_sheet('Test Sheet')"
   ]
  },
  {
   "cell_type": "code",
   "execution_count": 7,
   "metadata": {},
   "outputs": [],
   "source": [
    "myWorkbook.save('MyCompanyStaff-Copy.xlsx')"
   ]
  },
  {
   "cell_type": "code",
   "execution_count": 8,
   "metadata": {},
   "outputs": [
    {
     "name": "stdout",
     "output_type": "stream",
     "text": [
      "<Cell 'Employees'.B1>\n"
     ]
    }
   ],
   "source": [
    "cellValue = mySheet['B1']\n",
    "\n",
    "print(cellValue)"
   ]
  },
  {
   "cell_type": "markdown",
   "metadata": {},
   "source": [
    "There are 2 way of deleting a sheet from the file."
   ]
  },
  {
   "cell_type": "code",
   "execution_count": 10,
   "metadata": {},
   "outputs": [],
   "source": [
    "#Removing a sheet from the workbook\n",
    "#sheet = workbook['TestSheet']\n",
    "#workbook.remove(sheet)\n",
    "\n",
    "#or\n",
    "\n",
    "del myWorkbook['Test Sheet']\n",
    "\n",
    "#Saving the workbook\n",
    "myWorkbook.save('MyCompanyStaff-Copy.xlsx') \n",
    "\n",
    "#Closing a workbook\n",
    "#workbook.close()"
   ]
  },
  {
   "cell_type": "markdown",
   "metadata": {},
   "source": [
    "## P3 - Getting general information about a sheet"
   ]
  },
  {
   "cell_type": "code",
   "execution_count": 11,
   "metadata": {},
   "outputs": [
    {
     "data": {
      "text/plain": [
       "'Employees'"
      ]
     },
     "execution_count": 11,
     "metadata": {},
     "output_type": "execute_result"
    }
   ],
   "source": [
    "mySheet.title"
   ]
  },
  {
   "cell_type": "code",
   "execution_count": 12,
   "metadata": {},
   "outputs": [
    {
     "data": {
      "text/plain": [
       "'A1'"
      ]
     },
     "execution_count": 12,
     "metadata": {},
     "output_type": "execute_result"
    }
   ],
   "source": [
    "mySheet.active_cell"
   ]
  },
  {
   "cell_type": "code",
   "execution_count": 13,
   "metadata": {},
   "outputs": [
    {
     "data": {
      "text/plain": [
       "'A1:G11'"
      ]
     },
     "execution_count": 13,
     "metadata": {},
     "output_type": "execute_result"
    }
   ],
   "source": [
    "mySheet.dimensions"
   ]
  },
  {
   "cell_type": "code",
   "execution_count": 14,
   "metadata": {},
   "outputs": [
    {
     "data": {
      "text/plain": [
       "<openpyxl.worksheet.dimensions.SheetFormatProperties object>\n",
       "Parameters:\n",
       "baseColWidth=8, defaultColWidth=None, defaultRowHeight=15.0, customHeight=None, zeroHeight=None, thickTop=None, thickBottom=None, outlineLevelRow=None, outlineLevelCol=None"
      ]
     },
     "execution_count": 14,
     "metadata": {},
     "output_type": "execute_result"
    }
   ],
   "source": [
    "mySheet.sheet_format"
   ]
  },
  {
   "cell_type": "code",
   "execution_count": 15,
   "metadata": {},
   "outputs": [
    {
     "data": {
      "text/plain": [
       "<openpyxl.worksheet.properties.WorksheetProperties object>\n",
       "Parameters:\n",
       "codeName=None, enableFormatConditionsCalculation=None, filterMode=None, published=None, syncHorizontal=None, syncRef=None, syncVertical=None, transitionEvaluation=None, transitionEntry=None, tabColor=None, outlinePr=<openpyxl.worksheet.properties.Outline object>\n",
       "Parameters:\n",
       "applyStyles=None, summaryBelow=True, summaryRight=True, showOutlineSymbols=None, pageSetUpPr=<openpyxl.worksheet.properties.PageSetupProperties object>\n",
       "Parameters:\n",
       "autoPageBreaks=None, fitToPage=None"
      ]
     },
     "execution_count": 15,
     "metadata": {},
     "output_type": "execute_result"
    }
   ],
   "source": [
    "mySheet.sheet_properties"
   ]
  },
  {
   "cell_type": "code",
   "execution_count": 16,
   "metadata": {},
   "outputs": [
    {
     "data": {
      "text/plain": [
       "7"
      ]
     },
     "execution_count": 16,
     "metadata": {},
     "output_type": "execute_result"
    }
   ],
   "source": [
    "mySheet.max_column"
   ]
  },
  {
   "cell_type": "code",
   "execution_count": 17,
   "metadata": {},
   "outputs": [
    {
     "data": {
      "text/plain": [
       "11"
      ]
     },
     "execution_count": 17,
     "metadata": {},
     "output_type": "execute_result"
    }
   ],
   "source": [
    "mySheet.max_row"
   ]
  },
  {
   "cell_type": "markdown",
   "metadata": {},
   "source": [
    "## P4 - Returning the rows in a sheet as tuples "
   ]
  },
  {
   "cell_type": "code",
   "execution_count": 22,
   "metadata": {},
   "outputs": [
    {
     "name": "stdout",
     "output_type": "stream",
     "text": [
      "('ID', 'First Name', 'Last Name', 'Department', 'Phone', 'Address', 'Salary')\n",
      "('1', 'Luke', 'Phillip', 'Sales', '121921900', '1st Address, Miami', '52000')\n",
      "('2', 'Jack', 'Darren', 'IT', '12918210', '2nd Address, Miami', '52200')\n",
      "('3', 'Ken', 'Wood', 'IT', '20192101', '3rd Address, Miami', '58000')\n",
      "('4', 'John', 'Wilson', 'Marketing', '31312311', '4th Address, Miami', '58700')\n",
      "('5', 'Emily', 'Larson', 'Marketing', '43423434', '5th Address, Miami', '60000')\n",
      "('6', 'Anna', 'Sullivan', 'Sales', '323232291', '6th Address, Miami', '54000')\n",
      "('7', 'Richard', 'Smith', 'Logistics', '1277177910', '7th Address, Miami', '56000')\n",
      "('8', 'Ronnie', 'Moore', 'Sales', '3691919186', '8th Address, Miami', '49000')\n",
      "('9', 'Benjamin', 'Drake', 'IT', '215557299', '9th Address, Miami', '53000')\n",
      "('10', 'Wayne', 'Barker', 'Logistics', '3266617791', '10th Address, Miami', '59500')\n"
     ]
    }
   ],
   "source": [
    "for i in mySheet.values:\n",
    "    print(i)"
   ]
  },
  {
   "cell_type": "markdown",
   "metadata": {},
   "source": [
    "## P5 - Working with sheet cells"
   ]
  },
  {
   "cell_type": "code",
   "execution_count": 23,
   "metadata": {},
   "outputs": [
    {
     "data": {
      "text/plain": [
       "'Anna'"
      ]
     },
     "execution_count": 23,
     "metadata": {},
     "output_type": "execute_result"
    }
   ],
   "source": [
    "mySheet['B7'].value"
   ]
  },
  {
   "cell_type": "code",
   "execution_count": 24,
   "metadata": {},
   "outputs": [
    {
     "data": {
      "text/plain": [
       "'Emily'"
      ]
     },
     "execution_count": 24,
     "metadata": {},
     "output_type": "execute_result"
    }
   ],
   "source": [
    "mySheet.cell(row=6, column=2).value"
   ]
  },
  {
   "cell_type": "code",
   "execution_count": 38,
   "metadata": {},
   "outputs": [
    {
     "name": "stdout",
     "output_type": "stream",
     "text": [
      "7\n",
      "2\n",
      "6\n",
      "2\n",
      "B7\n",
      "B6\n",
      "utf-8\n",
      "s\n"
     ]
    }
   ],
   "source": [
    "myCell1 = mySheet['B7']\n",
    "\n",
    "myCell2 = mySheet.cell(row=6, column=2)\n",
    "\n",
    "print(myCell1.row)\n",
    "\n",
    "print(myCell1.column)\n",
    "\n",
    "print(myCell2.row)\n",
    "\n",
    "print(myCell2.column)\n",
    "\n",
    "print(myCell1.coordinate)\n",
    "\n",
    "print(myCell2.coordinate)\n",
    "\n",
    "print(myCell1.encoding)\n",
    "\n",
    "print(myCell1.data_type)"
   ]
  },
  {
   "cell_type": "markdown",
   "metadata": {},
   "source": [
    "### Cell Data Types \n",
    "\n",
    "    TYPE_STRING = 's'\n",
    "    TYPE_FORMULA = 'f'\n",
    "    TYPE_NUMERIC = 'n'\n",
    "    TYPE_BOOL = 'b'\n",
    "    TYPE_NULL = 'n'\n",
    "    TYPE_INLINE = 'inlineStr'\n",
    "    TYPE_ERROR = 'e'\n",
    "    TYPE_FORMULA_CACHE_STRING = 'str'\n",
    "\n",
    "### Assign values to a cell"
   ]
  },
  {
   "cell_type": "code",
   "execution_count": 31,
   "metadata": {},
   "outputs": [
    {
     "name": "stdout",
     "output_type": "stream",
     "text": [
      "Current Value of myCell:\t Anna\n",
      "New Value of myCell: \t Ana Luisa\n"
     ]
    }
   ],
   "source": [
    "print('Current Value of myCell:\\t', myCell1.value)\n",
    "\n",
    "myCell1.value = 'Ana Luisa'\n",
    "\n",
    "print('New Value of myCell: \\t', myCell1.value)"
   ]
  },
  {
   "cell_type": "code",
   "execution_count": 32,
   "metadata": {},
   "outputs": [],
   "source": [
    "myWorkbook.save('MyCompanyStaff-Copy.xlsx')"
   ]
  },
  {
   "cell_type": "code",
   "execution_count": 34,
   "metadata": {},
   "outputs": [
    {
     "name": "stdout",
     "output_type": "stream",
     "text": [
      "('ID', 'First Name', 'Last Name', 'Department', 'Phone', 'Address', 'Salary')\n",
      "('1', 'Luke', 'Phillip', 'Sales', '121921900', '1st Address, Miami', '52000')\n",
      "('2', 'Jack', 'Darren', 'IT', '12918210', '2nd Address, Miami', '52200')\n",
      "('3', 'Ken', 'Wood', 'IT', '20192101', '3rd Address, Miami', '58000')\n",
      "('4', 'John', 'Wilson', 'Marketing', '31312311', '4th Address, Miami', '58700')\n",
      "('5', 'Emily', 'Larson', 'Marketing', '43423434', '5th Address, Miami', '60000')\n",
      "('6', 'Ana Luisa', 'Sullivan', 'Sales', '323232291', '6th Address, Miami', '54000')\n",
      "('7', 'Richard', 'Smith', 'Logistics', '1277177910', '7th Address, Miami', '56000')\n",
      "('8', 'Ronnie', 'Moore', 'Sales', '3691919186', '8th Address, Miami', '49000')\n",
      "('9', 'Benjamin', 'Drake', 'IT', '215557299', '9th Address, Miami', '53000')\n",
      "('10', 'Wayne', 'Barker', 'Logistics', '3266617791', '10th Address, Miami', '59500')\n"
     ]
    }
   ],
   "source": [
    "for i in mySheet.values:\n",
    "    print(i)"
   ]
  },
  {
   "cell_type": "markdown",
   "metadata": {},
   "source": [
    "Getting parents"
   ]
  },
  {
   "cell_type": "code",
   "execution_count": 35,
   "metadata": {},
   "outputs": [
    {
     "name": "stdout",
     "output_type": "stream",
     "text": [
      "<Worksheet \"Employees\">\n"
     ]
    }
   ],
   "source": [
    "print(myCell1.parent)"
   ]
  },
  {
   "cell_type": "code",
   "execution_count": 36,
   "metadata": {},
   "outputs": [
    {
     "name": "stdout",
     "output_type": "stream",
     "text": [
      "<openpyxl.workbook.workbook.Workbook object at 0x0000017F9DD09508>\n"
     ]
    }
   ],
   "source": [
    "print(mySheet.parent)"
   ]
  },
  {
   "cell_type": "code",
   "execution_count": 37,
   "metadata": {},
   "outputs": [
    {
     "name": "stdout",
     "output_type": "stream",
     "text": [
      "/xl/workbook.xml\n"
     ]
    }
   ],
   "source": [
    "print(myWorkbook.path)"
   ]
  },
  {
   "cell_type": "code",
   "execution_count": null,
   "metadata": {},
   "outputs": [],
   "source": []
  }
 ],
 "metadata": {
  "kernelspec": {
   "display_name": "Python 3",
   "language": "python",
   "name": "python3"
  },
  "language_info": {
   "codemirror_mode": {
    "name": "ipython",
    "version": 3
   },
   "file_extension": ".py",
   "mimetype": "text/x-python",
   "name": "python",
   "nbconvert_exporter": "python",
   "pygments_lexer": "ipython3",
   "version": "3.7.4"
  }
 },
 "nbformat": 4,
 "nbformat_minor": 2
}

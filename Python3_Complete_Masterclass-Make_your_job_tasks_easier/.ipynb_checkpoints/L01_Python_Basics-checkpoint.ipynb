{
 "cells": [
  {
   "cell_type": "markdown",
   "metadata": {},
   "source": [
    "# Python 3: Basics\n",
    "## P1 - Python Keywords\n",
    "These are the Python's keywords."
   ]
  },
  {
   "cell_type": "code",
   "execution_count": 1,
   "metadata": {},
   "outputs": [
    {
     "name": "stdout",
     "output_type": "stream",
     "text": [
      "Python Keywords:\n",
      "----------------------------------------\n",
      " False\tawait\telse\timport\tpass\n",
      " None\tbreak\texcept\tin\traise\n",
      " True\tclass\tfinally\tis\treturn\n",
      " and\tfor\tlambda\ttry\tcontinue\n",
      " as\tdef\tfrom\twhile\tnonlocal\n",
      " assert\tdel\tglobal\tnot\twith\n",
      " async\telif\tif\tor\tyield\n",
      "----------------------------------------\n"
     ]
    }
   ],
   "source": [
    "print('Python Keywords:')\n",
    "print('----------------------------------------')\n",
    "print(' False\\tawait\\telse\\timport\\tpass')\n",
    "print(' None\\tbreak\\texcept\\tin\\traise')\n",
    "print(' True\\tclass\\tfinally\\tis\\treturn')\n",
    "print(' and\\tfor\\tlambda\\ttry\\tcontinue')\n",
    "print(' as\\tdef\\tfrom\\twhile\\tnonlocal')\n",
    "print(' assert\\tdel\\tglobal\\tnot\\twith')\n",
    "print(' async\\telif\\tif\\tor\\tyield')\n",
    "print('----------------------------------------')"
   ]
  },
  {
   "cell_type": "markdown",
   "metadata": {},
   "source": [
    "## P2 - Declaring variables, the basics\n",
    "\n",
    "### Declaration, multiple variables declaration and multiple values declaration\n",
    "\n",
    "https://www.digitalocean.com/community/tutorials/how-to-use-variables-in-python-3"
   ]
  },
  {
   "cell_type": "code",
   "execution_count": 2,
   "metadata": {},
   "outputs": [
    {
     "name": "stdout",
     "output_type": "stream",
     "text": [
      "\n",
      "Declaración: \n",
      "\ta = 10\n",
      "Value of a: 10\n",
      "\n",
      "Declaración: \n",
      "\ta = b = c = 15\n",
      "Value of a: 15\n",
      "Value of b: 15\n",
      "Value of c: 15\n",
      "\n",
      "Declaración: \n",
      "\td, e, f = 5, 10, 15\n",
      "Value of d: 5\n",
      "Value of e: 10\n",
      "Value of f: 15\n"
     ]
    }
   ],
   "source": [
    "# Integer\n",
    "a = 10\n",
    "\n",
    "print('\\nDeclaración: \\n\\ta = 10')\n",
    "print('Value of a:', a)\n",
    "\n",
    "# Assign same value to multiple variables\n",
    "a = b = c = 15\n",
    "\n",
    "print('\\nDeclaración: \\n\\ta = b = c = 15')\n",
    "print('Value of a:', a)\n",
    "print('Value of b:', b)\n",
    "print('Value of c:', c)\n",
    "\n",
    "# Assign several values to multiple variables on same line\n",
    "d, e, f = 5, 10, 15\n",
    "\n",
    "print('\\nDeclaración: \\n\\td, e, f = 5, 10, 15')\n",
    "print('Value of d:', d)\n",
    "print('Value of e:', e)\n",
    "print('Value of f:', f)"
   ]
  },
  {
   "cell_type": "markdown",
   "metadata": {},
   "source": [
    "### Working with pointers"
   ]
  },
  {
   "cell_type": "code",
   "execution_count": 3,
   "metadata": {},
   "outputs": [
    {
     "name": "stdout",
     "output_type": "stream",
     "text": [
      "\n",
      "Declaración: \n",
      "\tg = id(f)\n",
      "\th = id(5)\n",
      "\ti = id(d)\n",
      "Value of g: 140729931047760\n",
      "Value of h: 140729931047440\n",
      "Value of i: 140729931047440\n"
     ]
    }
   ],
   "source": [
    "# Working with pointers\n",
    "g = id(f)\n",
    "h = id(5)\n",
    "i = id(d)\n",
    "\n",
    "print('\\nDeclaración: \\n\\tg = id(f)\\n\\th = id(5)\\n\\ti = id(d)')\n",
    "print('Value of g:', g)\n",
    "print('Value of h:', h)\n",
    "print('Value of i:', i)"
   ]
  },
  {
   "cell_type": "markdown",
   "metadata": {},
   "source": [
    "### Defining variables of different types"
   ]
  },
  {
   "cell_type": "code",
   "execution_count": 4,
   "metadata": {},
   "outputs": [
    {
     "name": "stdout",
     "output_type": "stream",
     "text": [
      "\n",
      "Declaración: \n",
      "\tmy_var1 = 10\n",
      "\tmy_var2 = \"Hello\"\n",
      "\tmy_var3 = True\n",
      "Value of my_var1 (integer): 10\n",
      "Value of my_var2 (string): Hello\n",
      "Value of my_var3 (boolean): True\n"
     ]
    }
   ],
   "source": [
    "# Defining a variable\n",
    "my_var1 = 10 \t\t#type integer\n",
    "my_var2 = \"Hello\" \t#type string\n",
    "my_var3 = True \t\t#type boolean\n",
    "\n",
    "print('\\nDeclaración: \\n\\tmy_var1 = 10\\n\\tmy_var2 = \"Hello\"\\n\\tmy_var3 = True')\n",
    "print('Value of my_var1 (integer):', my_var1)\n",
    "print('Value of my_var2 (string):', my_var2)\n",
    "print('Value of my_var3 (boolean):', my_var3)"
   ]
  },
  {
   "cell_type": "markdown",
   "metadata": {},
   "source": [
    "### Python Data Types"
   ]
  },
  {
   "cell_type": "code",
   "execution_count": 8,
   "metadata": {},
   "outputs": [
    {
     "name": "stdout",
     "output_type": "stream",
     "text": [
      "\n",
      "Python Data Types:\n",
      "\tstrings\tnumbers\tbooleans\ttuples\n",
      "\tlists\tsets\tranges\t\tfrozensets\n",
      "\tdictionaries\tNone\n"
     ]
    }
   ],
   "source": [
    "#6. Python Data Types\n",
    "print('\\nPython Data Types:\\n\\tstrings\\tnumbers\\tbooleans\\ttuples')\n",
    "print('\\tlists\\tsets\\tranges\\t\\tfrozensets')\n",
    "print('\\tdictionaries\\tNone')"
   ]
  },
  {
   "cell_type": "markdown",
   "metadata": {},
   "source": [
    "### Strings intro\n",
    "\n",
    "#### Basic Operations\n",
    "\n",
    "Assigning text to a string and extracting caracters"
   ]
  },
  {
   "cell_type": "code",
   "execution_count": 9,
   "metadata": {},
   "outputs": [
    {
     "data": {
      "text/plain": [
       "'This is a string example'"
      ]
     },
     "execution_count": 9,
     "metadata": {},
     "output_type": "execute_result"
    }
   ],
   "source": [
    "strText = \"This is a string example\"\n",
    "\n",
    "strText"
   ]
  },
  {
   "cell_type": "code",
   "execution_count": 10,
   "metadata": {},
   "outputs": [
    {
     "data": {
      "text/plain": [
       "24"
      ]
     },
     "execution_count": 10,
     "metadata": {},
     "output_type": "execute_result"
    }
   ],
   "source": [
    "len(strText)"
   ]
  },
  {
   "cell_type": "code",
   "execution_count": 13,
   "metadata": {},
   "outputs": [
    {
     "data": {
      "text/plain": [
       "'T'"
      ]
     },
     "execution_count": 13,
     "metadata": {},
     "output_type": "execute_result"
    }
   ],
   "source": [
    "strText[0]"
   ]
  },
  {
   "cell_type": "code",
   "execution_count": 14,
   "metadata": {},
   "outputs": [
    {
     "data": {
      "text/plain": [
       "'r'"
      ]
     },
     "execution_count": 14,
     "metadata": {},
     "output_type": "execute_result"
    }
   ],
   "source": [
    "strText[12]"
   ]
  },
  {
   "cell_type": "code",
   "execution_count": 15,
   "metadata": {},
   "outputs": [
    {
     "data": {
      "text/plain": [
       "'e'"
      ]
     },
     "execution_count": 15,
     "metadata": {},
     "output_type": "execute_result"
    }
   ],
   "source": [
    "strText[-1]"
   ]
  },
  {
   "cell_type": "code",
   "execution_count": 16,
   "metadata": {},
   "outputs": [
    {
     "data": {
      "text/plain": [
       "'e'"
      ]
     },
     "execution_count": 16,
     "metadata": {},
     "output_type": "execute_result"
    }
   ],
   "source": [
    "strText[23]"
   ]
  },
  {
   "cell_type": "code",
   "execution_count": 17,
   "metadata": {},
   "outputs": [
    {
     "ename": "IndexError",
     "evalue": "string index out of range",
     "output_type": "error",
     "traceback": [
      "\u001b[1;31m---------------------------------------------------------------------------\u001b[0m",
      "\u001b[1;31mIndexError\u001b[0m                                Traceback (most recent call last)",
      "\u001b[1;32m<ipython-input-17-ebdf2ab9bfc3>\u001b[0m in \u001b[0;36m<module>\u001b[1;34m\u001b[0m\n\u001b[1;32m----> 1\u001b[1;33m \u001b[0mstrText\u001b[0m\u001b[1;33m[\u001b[0m\u001b[1;36m24\u001b[0m\u001b[1;33m]\u001b[0m\u001b[1;33m\u001b[0m\u001b[1;33m\u001b[0m\u001b[0m\n\u001b[0m",
      "\u001b[1;31mIndexError\u001b[0m: string index out of range"
     ]
    }
   ],
   "source": [
    "strText[24]"
   ]
  },
  {
   "cell_type": "markdown",
   "metadata": {},
   "source": [
    "#### Basic Methods\n",
    "\n",
    "https://docs.python.org/3/library/stdtypes.html#text-sequence-type-str"
   ]
  },
  {
   "cell_type": "code",
   "execution_count": 18,
   "metadata": {},
   "outputs": [
    {
     "data": {
      "text/plain": [
       "18"
      ]
     },
     "execution_count": 18,
     "metadata": {},
     "output_type": "execute_result"
    }
   ],
   "source": [
    "strText.index(\"x\")"
   ]
  },
  {
   "cell_type": "code",
   "execution_count": 20,
   "metadata": {},
   "outputs": [
    {
     "data": {
      "text/plain": [
       "3"
      ]
     },
     "execution_count": 20,
     "metadata": {},
     "output_type": "execute_result"
    }
   ],
   "source": [
    "strText.count(\"i\")"
   ]
  },
  {
   "cell_type": "code",
   "execution_count": 21,
   "metadata": {},
   "outputs": [
    {
     "data": {
      "text/plain": [
       "2"
      ]
     },
     "execution_count": 21,
     "metadata": {},
     "output_type": "execute_result"
    }
   ],
   "source": [
    "strText.find(\"is\")"
   ]
  },
  {
   "cell_type": "code",
   "execution_count": 22,
   "metadata": {},
   "outputs": [
    {
     "data": {
      "text/plain": [
       "-1"
      ]
     },
     "execution_count": 22,
     "metadata": {},
     "output_type": "execute_result"
    }
   ],
   "source": [
    "strText.find(\"tha\")"
   ]
  },
  {
   "cell_type": "code",
   "execution_count": 23,
   "metadata": {},
   "outputs": [
    {
     "data": {
      "text/plain": [
       "'THIS IS A STRING EXAMPLE'"
      ]
     },
     "execution_count": 23,
     "metadata": {},
     "output_type": "execute_result"
    }
   ],
   "source": [
    "strText.upper()"
   ]
  },
  {
   "cell_type": "code",
   "execution_count": 24,
   "metadata": {},
   "outputs": [
    {
     "data": {
      "text/plain": [
       "'this is a string example'"
      ]
     },
     "execution_count": 24,
     "metadata": {},
     "output_type": "execute_result"
    }
   ],
   "source": [
    "strText.lower()"
   ]
  },
  {
   "cell_type": "code",
   "execution_count": 26,
   "metadata": {},
   "outputs": [
    {
     "data": {
      "text/plain": [
       "True"
      ]
     },
     "execution_count": 26,
     "metadata": {},
     "output_type": "execute_result"
    }
   ],
   "source": [
    "strText.startswith('T')"
   ]
  },
  {
   "cell_type": "code",
   "execution_count": 27,
   "metadata": {
    "scrolled": false
   },
   "outputs": [
    {
     "data": {
      "text/plain": [
       "False"
      ]
     },
     "execution_count": 27,
     "metadata": {},
     "output_type": "execute_result"
    }
   ],
   "source": [
    "strText.startswith('t')"
   ]
  },
  {
   "cell_type": "code",
   "execution_count": 28,
   "metadata": {},
   "outputs": [
    {
     "data": {
      "text/plain": [
       "True"
      ]
     },
     "execution_count": 28,
     "metadata": {},
     "output_type": "execute_result"
    }
   ],
   "source": [
    "strText.endswith('e')"
   ]
  },
  {
   "cell_type": "code",
   "execution_count": 30,
   "metadata": {},
   "outputs": [
    {
     "name": "stdout",
     "output_type": "stream",
     "text": [
      "   This is a string example   \n"
     ]
    }
   ],
   "source": [
    "strNewText = '   ' + strText + '   '\n",
    "\n",
    "print(strNewText)"
   ]
  },
  {
   "cell_type": "code",
   "execution_count": 31,
   "metadata": {},
   "outputs": [
    {
     "data": {
      "text/plain": [
       "'$$$This$is$a$string$example$$$'"
      ]
     },
     "execution_count": 31,
     "metadata": {},
     "output_type": "execute_result"
    }
   ],
   "source": [
    "strNewText.replace(\" \", \"$\")"
   ]
  },
  {
   "cell_type": "code",
   "execution_count": 32,
   "metadata": {},
   "outputs": [
    {
     "data": {
      "text/plain": [
       "'   This is a string example   '"
      ]
     },
     "execution_count": 32,
     "metadata": {},
     "output_type": "execute_result"
    }
   ],
   "source": [
    "strNewText.strip(\"$\")"
   ]
  },
  {
   "cell_type": "code",
   "execution_count": 33,
   "metadata": {},
   "outputs": [
    {
     "data": {
      "text/plain": [
       "'   This is a string example   '"
      ]
     },
     "execution_count": 33,
     "metadata": {},
     "output_type": "execute_result"
    }
   ],
   "source": [
    "strNewText"
   ]
  },
  {
   "cell_type": "code",
   "execution_count": null,
   "metadata": {},
   "outputs": [],
   "source": []
  }
 ],
 "metadata": {
  "kernelspec": {
   "display_name": "Python 3",
   "language": "python",
   "name": "python3"
  },
  "language_info": {
   "codemirror_mode": {
    "name": "ipython",
    "version": 3
   },
   "file_extension": ".py",
   "mimetype": "text/x-python",
   "name": "python",
   "nbconvert_exporter": "python",
   "pygments_lexer": "ipython3",
   "version": "3.7.4"
  }
 },
 "nbformat": 4,
 "nbformat_minor": 2
}

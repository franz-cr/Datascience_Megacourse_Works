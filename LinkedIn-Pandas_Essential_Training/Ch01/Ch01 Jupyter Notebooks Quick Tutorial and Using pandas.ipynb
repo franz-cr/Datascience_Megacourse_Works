{
 "cells": [
  {
   "cell_type": "markdown",
   "metadata": {},
   "source": [
    "# Using Pandas"
   ]
  },
  {
   "cell_type": "markdown",
   "metadata": {},
   "source": [
    "## Importing pandas library"
   ]
  },
  {
   "cell_type": "code",
   "execution_count": 1,
   "metadata": {},
   "outputs": [],
   "source": [
    "import pandas"
   ]
  },
  {
   "cell_type": "code",
   "execution_count": 2,
   "metadata": {},
   "outputs": [
    {
     "data": {
      "text/plain": [
       "'0.25.1'"
      ]
     },
     "execution_count": 2,
     "metadata": {},
     "output_type": "execute_result"
    }
   ],
   "source": [
    "pandas.__version__"
   ]
  },
  {
   "cell_type": "markdown",
   "metadata": {},
   "source": [
    "## Importing pandas library with an alias"
   ]
  },
  {
   "cell_type": "code",
   "execution_count": 3,
   "metadata": {},
   "outputs": [],
   "source": [
    "import pandas as pd"
   ]
  },
  {
   "cell_type": "code",
   "execution_count": 4,
   "metadata": {},
   "outputs": [
    {
     "data": {
      "text/plain": [
       "'0.25.1'"
      ]
     },
     "execution_count": 4,
     "metadata": {},
     "output_type": "execute_result"
    }
   ],
   "source": [
    "pd.__version__"
   ]
  },
  {
   "cell_type": "markdown",
   "metadata": {},
   "source": [
    "## Pandas documentation"
   ]
  },
  {
   "cell_type": "code",
   "execution_count": 5,
   "metadata": {
    "scrolled": true
   },
   "outputs": [
    {
     "name": "stdout",
     "output_type": "stream",
     "text": [
      "\n",
      "INSTALLED VERSIONS\n",
      "------------------\n",
      "commit           : None\n",
      "python           : 3.7.4.final.0\n",
      "python-bits      : 64\n",
      "OS               : Windows\n",
      "OS-release       : 10\n",
      "machine          : AMD64\n",
      "processor        : Intel64 Family 6 Model 142 Stepping 9, GenuineIntel\n",
      "byteorder        : little\n",
      "LC_ALL           : None\n",
      "LANG             : None\n",
      "LOCALE           : None.None\n",
      "\n",
      "pandas           : 0.25.1\n",
      "numpy            : 1.16.5\n",
      "pytz             : 2019.3\n",
      "dateutil         : 2.8.0\n",
      "pip              : 19.2.3\n",
      "setuptools       : 41.4.0\n",
      "Cython           : 0.29.13\n",
      "pytest           : 5.2.1\n",
      "hypothesis       : None\n",
      "sphinx           : 2.2.0\n",
      "blosc            : None\n",
      "feather          : None\n",
      "xlsxwriter       : 1.2.1\n",
      "lxml.etree       : 4.4.1\n",
      "html5lib         : 1.0.1\n",
      "pymysql          : None\n",
      "psycopg2         : None\n",
      "jinja2           : 2.10.3\n",
      "IPython          : 7.8.0\n",
      "pandas_datareader: None\n",
      "bs4              : 4.8.0\n",
      "bottleneck       : 1.2.1\n",
      "fastparquet      : None\n",
      "gcsfs            : None\n",
      "lxml.etree       : 4.4.1\n",
      "matplotlib       : 3.1.1\n",
      "numexpr          : 2.7.0\n",
      "odfpy            : None\n",
      "openpyxl         : 3.0.0\n",
      "pandas_gbq       : None\n",
      "pyarrow          : None\n",
      "pytables         : None\n",
      "s3fs             : None\n",
      "scipy            : 1.3.1\n",
      "sqlalchemy       : 1.3.9\n",
      "tables           : 3.5.2\n",
      "xarray           : None\n",
      "xlrd             : 1.2.0\n",
      "xlwt             : 1.3.0\n",
      "xlsxwriter       : 1.2.1\n"
     ]
    }
   ],
   "source": [
    "pd.show_versions()"
   ]
  },
  {
   "cell_type": "markdown",
   "metadata": {},
   "source": [
    "### Displaying the documentation for a method\n",
    "\n",
    "Type the library or the alias, then '.' and then 'Tab' key to display all available method. Finally add the '?' at the endd to display the doc string for the method in the lower help panel."
   ]
  },
  {
   "cell_type": "code",
   "execution_count": 6,
   "metadata": {},
   "outputs": [],
   "source": [
    "pd.show_versions?"
   ]
  },
  {
   "cell_type": "code",
   "execution_count": 8,
   "metadata": {},
   "outputs": [],
   "source": [
    "pd.read_csv?"
   ]
  },
  {
   "cell_type": "code",
   "execution_count": null,
   "metadata": {},
   "outputs": [],
   "source": []
  }
 ],
 "metadata": {
  "kernelspec": {
   "display_name": "Python 3",
   "language": "python",
   "name": "python3"
  },
  "language_info": {
   "codemirror_mode": {
    "name": "ipython",
    "version": 3
   },
   "file_extension": ".py",
   "mimetype": "text/x-python",
   "name": "python",
   "nbconvert_exporter": "python",
   "pygments_lexer": "ipython3",
   "version": "3.7.4"
  }
 },
 "nbformat": 4,
 "nbformat_minor": 1
}
